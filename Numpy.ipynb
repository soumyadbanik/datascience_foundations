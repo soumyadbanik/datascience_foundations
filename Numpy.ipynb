{
 "cells": [
  {
   "cell_type": "code",
   "execution_count": 1,
   "id": "5b595958-cf26-423d-ad43-008f8029e549",
   "metadata": {},
   "outputs": [
    {
     "data": {
      "text/plain": [
       "'1.22.3'"
      ]
     },
     "execution_count": 1,
     "metadata": {},
     "output_type": "execute_result"
    }
   ],
   "source": [
    "import numpy as np\n",
    "np.__version__"
   ]
  },
  {
   "cell_type": "markdown",
   "id": "796d3003-ba26-4326-b955-1c8398a288b0",
   "metadata": {
    "jp-MarkdownHeadingCollapsed": true,
    "tags": []
   },
   "source": [
    "## Python data types(lists and integer objects)"
   ]
  },
  {
   "cell_type": "code",
   "execution_count": 14,
   "id": "c3568fc2-f4dc-4ff5-8c50-670ff1ba7936",
   "metadata": {},
   "outputs": [
    {
     "data": {
      "text/plain": [
       "([0, 1, 2, 3, 4, 5, 6, 7, 8, 9],\n",
       " ['0', '1', '2', '3', '4', '5', '6', '7', '8', '9'])"
      ]
     },
     "execution_count": 14,
     "metadata": {},
     "output_type": "execute_result"
    }
   ],
   "source": [
    "L = list(range(10))\n",
    "L1 = [str(c) for c in L]\n",
    "\n",
    "L,L1"
   ]
  },
  {
   "cell_type": "markdown",
   "id": "22b4da7a-9ed6-4389-ad59-f1f38a937af5",
   "metadata": {
    "jp-MarkdownHeadingCollapsed": true,
    "tags": []
   },
   "source": [
    "### Fixed type arrays in Python"
   ]
  },
  {
   "cell_type": "code",
   "execution_count": 37,
   "id": "0ebe3ea9-b75c-4956-9da4-13a2a8b37049",
   "metadata": {},
   "outputs": [
    {
     "data": {
      "text/plain": [
       "array('i', [0, 1, 4, 2, 3, 4, 5, 6, 7, 8, 9])"
      ]
     },
     "execution_count": 37,
     "metadata": {},
     "output_type": "execute_result"
    }
   ],
   "source": [
    "import array\n",
    "arr = array.array('i', [i for i in range(10)])\n",
    "arr.insert(2, 4)\n",
    "arr"
   ]
  },
  {
   "cell_type": "markdown",
   "id": "77ee61cc-8623-4993-87bb-d6157d7ed005",
   "metadata": {
    "jp-MarkdownHeadingCollapsed": true,
    "tags": []
   },
   "source": [
    "## Creating NumPy arrays"
   ]
  },
  {
   "cell_type": "code",
   "execution_count": 53,
   "id": "d36920fe-5522-4148-ae04-851279599b37",
   "metadata": {},
   "outputs": [
    {
     "data": {
      "text/plain": [
       "(array([1, 2, 3, 4, 5]), array([1.2, 3.2, 2. , 8. , 0.5]))"
      ]
     },
     "execution_count": 53,
     "metadata": {},
     "output_type": "execute_result"
    }
   ],
   "source": [
    "#efficiently perform operations on data while python arrays gives efficient storage facility\n",
    "\n",
    "nparr1 = np.array([1,2,3,4,5,])\n",
    "nparr2 = np.array([1.2,3.2,2,8,.5])\n",
    "nparr1, nparr2                           #arrays of same data type and automatic upcasted by numpy"
   ]
  },
  {
   "cell_type": "code",
   "execution_count": 35,
   "id": "cb7772fd-2db4-401a-a006-d434d54af818",
   "metadata": {},
   "outputs": [
    {
     "data": {
      "text/plain": [
       "(array([1., 2., 3., 4.], dtype=float32), numpy.ndarray)"
      ]
     },
     "execution_count": 35,
     "metadata": {},
     "output_type": "execute_result"
    }
   ],
   "source": [
    "#fix the data type in nparray\n",
    "\n",
    "nparr3 = np.array([1,2,3,4,], dtype = 'float32')\n",
    "nparr3, type(nparr3)"
   ]
  },
  {
   "cell_type": "code",
   "execution_count": 50,
   "id": "56e87d0d-64e3-4297-b234-4dddd4a42675",
   "metadata": {},
   "outputs": [
    {
     "data": {
      "text/plain": [
       "(array([0, 1, 2, 3, 4, 5, 6]),\n",
       " array([[2, 3, 4, 5],\n",
       "        [4, 5, 6, 7],\n",
       "        [6, 7, 8, 9]]))"
      ]
     },
     "execution_count": 50,
     "metadata": {},
     "output_type": "execute_result"
    }
   ],
   "source": [
    "#Creating Multi-dimensional array using lists of lists(nested lists)\n",
    "\n",
    "A1 = np.array(range(7))\n",
    "A2 = np.array([range(i, i + 4) for i in [2, 4, 6]])      #inner list treated as rows of the array\n",
    "A1, A2"
   ]
  },
  {
   "cell_type": "markdown",
   "id": "391a3fd6-731d-409f-9aa7-415f65449ab8",
   "metadata": {
    "tags": []
   },
   "source": [
    "### Creating arrays from scratch"
   ]
  },
  {
   "cell_type": "code",
   "execution_count": 57,
   "id": "ec822281-41eb-4bf8-b7ba-e1d183915d44",
   "metadata": {},
   "outputs": [
    {
     "data": {
      "text/plain": [
       "array([0, 0, 0, 0, 0, 0, 0, 0, 0, 0])"
      ]
     },
     "execution_count": 57,
     "metadata": {},
     "output_type": "execute_result"
    }
   ],
   "source": [
    "#length-10 integer array filled with zeros. Default type is 'float'\n",
    "np.zeros(10, dtype='int')     "
   ]
  },
  {
   "cell_type": "code",
   "execution_count": 58,
   "id": "489f18a3-b75b-4865-b996-c08b3236aea3",
   "metadata": {},
   "outputs": [
    {
     "data": {
      "text/plain": [
       "array([[1., 1., 1., 1., 1.],\n",
       "       [1., 1., 1., 1., 1.],\n",
       "       [1., 1., 1., 1., 1.]])"
      ]
     },
     "execution_count": 58,
     "metadata": {},
     "output_type": "execute_result"
    }
   ],
   "source": [
    "#3x5 floating point array filled with ones\n",
    "\n",
    "np.ones((3,5), dtype='float')"
   ]
  },
  {
   "cell_type": "code",
   "execution_count": 62,
   "id": "140a3c41-4afe-4841-83e3-6ab475184afb",
   "metadata": {},
   "outputs": [
    {
     "data": {
      "text/plain": [
       "array([[3.14, 3.14, 3.14, 3.14, 3.14],\n",
       "       [3.14, 3.14, 3.14, 3.14, 3.14],\n",
       "       [3.14, 3.14, 3.14, 3.14, 3.14]])"
      ]
     },
     "execution_count": 62,
     "metadata": {},
     "output_type": "execute_result"
    }
   ],
   "source": [
    "#nxn array filled with 3.14\n",
    "\n",
    "np.full((3,5), 3.14)"
   ]
  },
  {
   "cell_type": "code",
   "execution_count": 64,
   "id": "8dd324ad-b1a7-4349-b609-52ddad58840a",
   "metadata": {},
   "outputs": [
    {
     "data": {
      "text/plain": [
       "array([ 0,  3,  6,  9, 12, 15, 18, 21, 24, 27, 30])"
      ]
     },
     "execution_count": 64,
     "metadata": {},
     "output_type": "execute_result"
    }
   ],
   "source": [
    "#Create an array filled with a linear sequence\n",
    "#Starting at 0, ending at 30, stepping by 3\n",
    "\n",
    "np.arange(0,33,3)"
   ]
  },
  {
   "cell_type": "code",
   "execution_count": 66,
   "id": "ec25d071-dabb-4ef8-a8ea-35281f00d3d6",
   "metadata": {},
   "outputs": [
    {
     "data": {
      "text/plain": [
       "array([ 0. ,  2.5,  5. ,  7.5, 10. ])"
      ]
     },
     "execution_count": 66,
     "metadata": {},
     "output_type": "execute_result"
    }
   ],
   "source": [
    "#array of n values evenly spaced between the given range\n",
    "\n",
    "np.linspace(0,10,5)"
   ]
  },
  {
   "cell_type": "code",
   "execution_count": 83,
   "id": "d697cab3-e0a0-44af-a45c-b2bf28e25b31",
   "metadata": {},
   "outputs": [
    {
     "data": {
      "text/plain": [
       "(array([[0.37921762, 0.58050435, 0.032851  ],\n",
       "        [0.54430787, 0.82882261, 0.42906581],\n",
       "        [0.0937307 , 0.94510424, 0.81066331]]),\n",
       " array([[-0.39799181,  0.25256795,  1.29621754],\n",
       "        [-0.71226273, -1.24525111, -0.00200533],\n",
       "        [-1.26984547, -1.39133288,  0.16880535]]),\n",
       " array([[1, 0, 0],\n",
       "        [2, 0, 3],\n",
       "        [1, 0, 1]]))"
      ]
     },
     "execution_count": 83,
     "metadata": {},
     "output_type": "execute_result"
    }
   ],
   "source": [
    "#random\n",
    "\n",
    "R1 = np.random.random((3,3))\n",
    "\n",
    "#normally distributed random values with mean 0 and sd 1\n",
    "R2 = np.random.normal(0,1,(3,3))\n",
    "\n",
    "#3x3 random integers in an interval (0,5)\n",
    "R3 = np.random.randint(0,5,(3,3))\n",
    "\n",
    "R1, R2, R3"
   ]
  },
  {
   "cell_type": "code",
   "execution_count": 85,
   "id": "282f96e7-1d8d-42ca-89e9-e34296f08f70",
   "metadata": {},
   "outputs": [
    {
     "data": {
      "text/plain": [
       "array([[1., 0., 0.],\n",
       "       [0., 1., 0.],\n",
       "       [0., 0., 1.]])"
      ]
     },
     "execution_count": 85,
     "metadata": {},
     "output_type": "execute_result"
    }
   ],
   "source": [
    "#crating identity matrix\n",
    "\n",
    "np.eye(3)"
   ]
  },
  {
   "cell_type": "markdown",
   "id": "fde0dda4-1826-4b1a-acab-8ac8ae56b47c",
   "metadata": {},
   "source": [
    "# Basics of NumPy arrays"
   ]
  },
  {
   "cell_type": "markdown",
   "id": "2dd95eb1-b5b3-400c-bd6f-d28a70f73d6c",
   "metadata": {},
   "source": [
    "### Attributes of Arrays"
   ]
  },
  {
   "cell_type": "code",
   "execution_count": 2,
   "id": "419fb37a-e693-4247-ae6c-cfede8c60099",
   "metadata": {},
   "outputs": [],
   "source": [
    "np.random.seed(0)   #seed to ensure that each time same random numbers are generating\n",
    "\n",
    "x1 = np.random.randint(10, size=6)\n",
    "x2 = np.random.randint(10, size=(3,4))\n",
    "x3 = np.random.randint(10, size=(3,4,5))"
   ]
  },
  {
   "cell_type": "code",
   "execution_count": 3,
   "id": "130197d4-e0b1-4920-8afe-e9c75958c2f6",
   "metadata": {},
   "outputs": [
    {
     "name": "stdout",
     "output_type": "stream",
     "text": [
      "3\n",
      "(3, 4, 5)\n",
      "60\n"
     ]
    }
   ],
   "source": [
    "print(x3.ndim)          #number of dimensions\n",
    "print(x3.shape)\n",
    "print(x3.size)"
   ]
  },
  {
   "cell_type": "code",
   "execution_count": 4,
   "id": "3662b104-a478-46ce-98cc-65f24d99b043",
   "metadata": {},
   "outputs": [
    {
     "data": {
      "text/plain": [
       "array([[3, 5, 2, 4],\n",
       "       [7, 6, 8, 8],\n",
       "       [1, 6, 7, 7]])"
      ]
     },
     "execution_count": 4,
     "metadata": {},
     "output_type": "execute_result"
    }
   ],
   "source": [
    "x2"
   ]
  },
  {
   "cell_type": "code",
   "execution_count": 14,
   "id": "5ffa23ca-11c7-44b8-b1b9-00942369afe3",
   "metadata": {},
   "outputs": [
    {
     "data": {
      "text/plain": [
       "array([[4, 2, 5, 3],\n",
       "       [8, 8, 6, 7],\n",
       "       [7, 7, 6, 1]])"
      ]
     },
     "execution_count": 14,
     "metadata": {},
     "output_type": "execute_result"
    }
   ],
   "source": [
    "x2[::, ::-1]"
   ]
  },
  {
   "cell_type": "code",
   "execution_count": 28,
   "id": "3c9b411f-353d-4052-8dd8-2b6dde592b29",
   "metadata": {},
   "outputs": [
    {
     "data": {
      "text/plain": [
       "array([3, 7, 1])"
      ]
     },
     "execution_count": 28,
     "metadata": {},
     "output_type": "execute_result"
    }
   ],
   "source": [
    "x2[::, 0]"
   ]
  },
  {
   "cell_type": "code",
   "execution_count": 29,
   "id": "e1a26f97-f353-4986-b55a-366644877c4c",
   "metadata": {},
   "outputs": [
    {
     "data": {
      "text/plain": [
       "array([3, 5, 2, 4])"
      ]
     },
     "execution_count": 29,
     "metadata": {},
     "output_type": "execute_result"
    }
   ],
   "source": [
    "x2[0]"
   ]
  },
  {
   "cell_type": "markdown",
   "id": "50d4f7e8-d628-4bc6-ab93-49dc7867a7e7",
   "metadata": {
    "tags": []
   },
   "source": [
    "### Numpy array slicing uses views instead of copying the subarrays"
   ]
  },
  {
   "cell_type": "code",
   "execution_count": 35,
   "id": "175e4699-615f-4544-8ce9-48ad8f63032e",
   "metadata": {},
   "outputs": [
    {
     "data": {
      "text/plain": [
       "array([[5, 4],\n",
       "       [6, 8]])"
      ]
     },
     "execution_count": 35,
     "metadata": {},
     "output_type": "execute_result"
    }
   ],
   "source": [
    "x2_sub = x2[:2, 1:4:2]\n",
    "x2_sub"
   ]
  },
  {
   "cell_type": "code",
   "execution_count": 43,
   "id": "811236d3-7e1e-4644-9897-e19c8e42d71c",
   "metadata": {},
   "outputs": [
    {
     "data": {
      "text/plain": [
       "array([[ 3,  5,  2, 99],\n",
       "       [ 7,  6,  8,  8],\n",
       "       [ 1,  6,  7,  7]])"
      ]
     },
     "execution_count": 43,
     "metadata": {},
     "output_type": "execute_result"
    }
   ],
   "source": [
    "x2_sub[0, 1] = 99    #will change the original array. This default behavior is actually quite useful: it means that when we work with large datasets,\n",
    "                     #we can access and process pieces of these datasets without the need to copy the underlying data buffer\n",
    "x2"
   ]
  },
  {
   "cell_type": "markdown",
   "id": "982fd34e-387c-42aa-8d82-6052e98b719d",
   "metadata": {},
   "source": [
    "#### instead we can copy the array by copy() method"
   ]
  },
  {
   "cell_type": "code",
   "execution_count": 44,
   "id": "14a0c132-855d-47d4-9b0d-9fa095d2658c",
   "metadata": {},
   "outputs": [
    {
     "data": {
      "text/plain": [
       "array([[ 3,  5,  2, 99],\n",
       "       [ 7,  6,  8,  8],\n",
       "       [ 1,  6,  7,  7]])"
      ]
     },
     "execution_count": 44,
     "metadata": {},
     "output_type": "execute_result"
    }
   ],
   "source": [
    "x2_sub_copy = x2[:2, 1:4:2].copy()\n",
    "x2_sub_copy[0,1] = 40\n",
    "\n",
    "x2    #will not changed"
   ]
  },
  {
   "cell_type": "code",
   "execution_count": null,
   "id": "baf266fd-7178-4a49-9c04-47c3916a5e87",
   "metadata": {},
   "outputs": [],
   "source": []
  }
 ],
 "metadata": {
  "kernelspec": {
   "display_name": "Python 3 (ipykernel)",
   "language": "python",
   "name": "python3"
  },
  "language_info": {
   "codemirror_mode": {
    "name": "ipython",
    "version": 3
   },
   "file_extension": ".py",
   "mimetype": "text/x-python",
   "name": "python",
   "nbconvert_exporter": "python",
   "pygments_lexer": "ipython3",
   "version": "3.8.10"
  }
 },
 "nbformat": 4,
 "nbformat_minor": 5
}
